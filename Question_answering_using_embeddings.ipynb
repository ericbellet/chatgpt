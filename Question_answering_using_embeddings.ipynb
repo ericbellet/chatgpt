{
 "cells": [
  {
   "cell_type": "markdown",
   "id": "c4ca8276-e829-4cff-8905-47534e4b4d4e",
   "metadata": {},
   "source": [
    "# Question Answering using Embeddings\n",
    "\n",
    "Many use cases require GPT-3 to respond to user questions with insightful answers. For example, a customer support chatbot may need to provide answers to common questions. The GPT models have picked up a lot of general knowledge in training, but we often need to ingest and use a large library of more specific information.\n",
    "\n",
    "In this notebook we will demonstrate a method for enabling GPT-3 to answer questions using a library of text as a reference, by using document embeddings and retrieval. We'll be using a dataset of Wikipedia articles about the 2020 Summer Olympic Games. Please see [this notebook](fine-tuned_qa/olympics-1-collect-data.ipynb) to follow the data gathering process."
   ]
  },
  {
   "cell_type": "code",
   "execution_count": 24,
   "id": "9e3839a6-9146-4f60-b74b-19abbc24278d",
   "metadata": {},
   "outputs": [],
   "source": [
    "import numpy as np\n",
    "import openai\n",
    "import pandas as pd\n",
    "import pickle\n",
    "import tiktoken\n",
    "\n",
    "COMPLETIONS_MODEL = \"text-davinci-003\"\n",
    "EMBEDDING_MODEL = \"text-embedding-ada-002\""
   ]
  },
  {
   "cell_type": "markdown",
   "id": "9312f62f-e208-4030-a648-71ad97aee74f",
   "metadata": {},
   "source": [
    "By default, GPT-3 isn't an expert on the 2020 Olympics:"
   ]
  },
  {
   "cell_type": "code",
   "execution_count": 25,
   "id": "a167516c-7c19-4bda-afa5-031aa0ae13bb",
   "metadata": {},
   "outputs": [
    {
     "ename": "AuthenticationError",
     "evalue": "No API key provided. You can set your API key in code using 'openai.api_key = <API-KEY>', or you can set the environment variable OPENAI_API_KEY=<API-KEY>). If your API key is stored in a file, you can point the openai module at it with 'openai.api_key_path = <PATH>'. You can generate API keys in the OpenAI web interface. See https://onboard.openai.com for details, or email support@openai.com if you have any questions.",
     "output_type": "error",
     "traceback": [
      "\u001b[0;31m---------------------------------------------------------------------------\u001b[0m",
      "\u001b[0;31mAuthenticationError\u001b[0m                       Traceback (most recent call last)",
      "Cell \u001b[0;32mIn[25], line 3\u001b[0m\n\u001b[1;32m      1\u001b[0m prompt \u001b[39m=\u001b[39m \u001b[39m\"\u001b[39m\u001b[39mWho won the 2020 Summer Olympics men\u001b[39m\u001b[39m'\u001b[39m\u001b[39ms high jump?\u001b[39m\u001b[39m\"\u001b[39m\n\u001b[0;32m----> 3\u001b[0m openai\u001b[39m.\u001b[39;49mCompletion\u001b[39m.\u001b[39;49mcreate(\n\u001b[1;32m      4\u001b[0m     prompt\u001b[39m=\u001b[39;49mprompt,\n\u001b[1;32m      5\u001b[0m     temperature\u001b[39m=\u001b[39;49m\u001b[39m0\u001b[39;49m,\n\u001b[1;32m      6\u001b[0m     max_tokens\u001b[39m=\u001b[39;49m\u001b[39m300\u001b[39;49m,\n\u001b[1;32m      7\u001b[0m     model\u001b[39m=\u001b[39;49mCOMPLETIONS_MODEL\n\u001b[1;32m      8\u001b[0m )[\u001b[39m\"\u001b[39m\u001b[39mchoices\u001b[39m\u001b[39m\"\u001b[39m][\u001b[39m0\u001b[39m][\u001b[39m\"\u001b[39m\u001b[39mtext\u001b[39m\u001b[39m\"\u001b[39m]\u001b[39m.\u001b[39mstrip(\u001b[39m\"\u001b[39m\u001b[39m \u001b[39m\u001b[39m\\n\u001b[39;00m\u001b[39m\"\u001b[39m)\n",
      "File \u001b[0;32m~/.pyenv/versions/3.8.5/lib/python3.8/site-packages/openai/api_resources/completion.py:25\u001b[0m, in \u001b[0;36mCompletion.create\u001b[0;34m(cls, *args, **kwargs)\u001b[0m\n\u001b[1;32m     23\u001b[0m \u001b[39mwhile\u001b[39;00m \u001b[39mTrue\u001b[39;00m:\n\u001b[1;32m     24\u001b[0m     \u001b[39mtry\u001b[39;00m:\n\u001b[0;32m---> 25\u001b[0m         \u001b[39mreturn\u001b[39;00m \u001b[39msuper\u001b[39;49m()\u001b[39m.\u001b[39;49mcreate(\u001b[39m*\u001b[39;49margs, \u001b[39m*\u001b[39;49m\u001b[39m*\u001b[39;49mkwargs)\n\u001b[1;32m     26\u001b[0m     \u001b[39mexcept\u001b[39;00m TryAgain \u001b[39mas\u001b[39;00m e:\n\u001b[1;32m     27\u001b[0m         \u001b[39mif\u001b[39;00m timeout \u001b[39mis\u001b[39;00m \u001b[39mnot\u001b[39;00m \u001b[39mNone\u001b[39;00m \u001b[39mand\u001b[39;00m time\u001b[39m.\u001b[39mtime() \u001b[39m>\u001b[39m start \u001b[39m+\u001b[39m timeout:\n",
      "File \u001b[0;32m~/.pyenv/versions/3.8.5/lib/python3.8/site-packages/openai/api_resources/abstract/engine_api_resource.py:149\u001b[0m, in \u001b[0;36mEngineAPIResource.create\u001b[0;34m(cls, api_key, api_base, api_type, request_id, api_version, organization, **params)\u001b[0m\n\u001b[1;32m    127\u001b[0m \u001b[39m@classmethod\u001b[39m\n\u001b[1;32m    128\u001b[0m \u001b[39mdef\u001b[39;00m \u001b[39mcreate\u001b[39m(\n\u001b[1;32m    129\u001b[0m     \u001b[39mcls\u001b[39m,\n\u001b[0;32m   (...)\u001b[0m\n\u001b[1;32m    136\u001b[0m     \u001b[39m*\u001b[39m\u001b[39m*\u001b[39mparams,\n\u001b[1;32m    137\u001b[0m ):\n\u001b[1;32m    138\u001b[0m     (\n\u001b[1;32m    139\u001b[0m         deployment_id,\n\u001b[1;32m    140\u001b[0m         engine,\n\u001b[1;32m    141\u001b[0m         timeout,\n\u001b[1;32m    142\u001b[0m         stream,\n\u001b[1;32m    143\u001b[0m         headers,\n\u001b[1;32m    144\u001b[0m         request_timeout,\n\u001b[1;32m    145\u001b[0m         typed_api_type,\n\u001b[1;32m    146\u001b[0m         requestor,\n\u001b[1;32m    147\u001b[0m         url,\n\u001b[1;32m    148\u001b[0m         params,\n\u001b[0;32m--> 149\u001b[0m     ) \u001b[39m=\u001b[39m \u001b[39mcls\u001b[39;49m\u001b[39m.\u001b[39;49m__prepare_create_request(\n\u001b[1;32m    150\u001b[0m         api_key, api_base, api_type, api_version, organization, \u001b[39m*\u001b[39;49m\u001b[39m*\u001b[39;49mparams\n\u001b[1;32m    151\u001b[0m     )\n\u001b[1;32m    153\u001b[0m     response, _, api_key \u001b[39m=\u001b[39m requestor\u001b[39m.\u001b[39mrequest(\n\u001b[1;32m    154\u001b[0m         \u001b[39m\"\u001b[39m\u001b[39mpost\u001b[39m\u001b[39m\"\u001b[39m,\n\u001b[1;32m    155\u001b[0m         url,\n\u001b[0;32m   (...)\u001b[0m\n\u001b[1;32m    160\u001b[0m         request_timeout\u001b[39m=\u001b[39mrequest_timeout,\n\u001b[1;32m    161\u001b[0m     )\n\u001b[1;32m    163\u001b[0m     \u001b[39mif\u001b[39;00m stream:\n\u001b[1;32m    164\u001b[0m         \u001b[39m# must be an iterator\u001b[39;00m\n",
      "File \u001b[0;32m~/.pyenv/versions/3.8.5/lib/python3.8/site-packages/openai/api_resources/abstract/engine_api_resource.py:106\u001b[0m, in \u001b[0;36mEngineAPIResource.__prepare_create_request\u001b[0;34m(cls, api_key, api_base, api_type, api_version, organization, **params)\u001b[0m\n\u001b[1;32m    103\u001b[0m \u001b[39melif\u001b[39;00m timeout \u001b[39m==\u001b[39m \u001b[39m0\u001b[39m:\n\u001b[1;32m    104\u001b[0m     params[\u001b[39m\"\u001b[39m\u001b[39mtimeout\u001b[39m\u001b[39m\"\u001b[39m] \u001b[39m=\u001b[39m MAX_TIMEOUT\n\u001b[0;32m--> 106\u001b[0m requestor \u001b[39m=\u001b[39m api_requestor\u001b[39m.\u001b[39;49mAPIRequestor(\n\u001b[1;32m    107\u001b[0m     api_key,\n\u001b[1;32m    108\u001b[0m     api_base\u001b[39m=\u001b[39;49mapi_base,\n\u001b[1;32m    109\u001b[0m     api_type\u001b[39m=\u001b[39;49mapi_type,\n\u001b[1;32m    110\u001b[0m     api_version\u001b[39m=\u001b[39;49mapi_version,\n\u001b[1;32m    111\u001b[0m     organization\u001b[39m=\u001b[39;49morganization,\n\u001b[1;32m    112\u001b[0m )\n\u001b[1;32m    113\u001b[0m url \u001b[39m=\u001b[39m \u001b[39mcls\u001b[39m\u001b[39m.\u001b[39mclass_url(engine, api_type, api_version)\n\u001b[1;32m    114\u001b[0m \u001b[39mreturn\u001b[39;00m (\n\u001b[1;32m    115\u001b[0m     deployment_id,\n\u001b[1;32m    116\u001b[0m     engine,\n\u001b[0;32m   (...)\u001b[0m\n\u001b[1;32m    124\u001b[0m     params,\n\u001b[1;32m    125\u001b[0m )\n",
      "File \u001b[0;32m~/.pyenv/versions/3.8.5/lib/python3.8/site-packages/openai/api_requestor.py:130\u001b[0m, in \u001b[0;36mAPIRequestor.__init__\u001b[0;34m(self, key, api_base, api_type, api_version, organization)\u001b[0m\n\u001b[1;32m    121\u001b[0m \u001b[39mdef\u001b[39;00m \u001b[39m__init__\u001b[39m(\n\u001b[1;32m    122\u001b[0m     \u001b[39mself\u001b[39m,\n\u001b[1;32m    123\u001b[0m     key\u001b[39m=\u001b[39m\u001b[39mNone\u001b[39;00m,\n\u001b[0;32m   (...)\u001b[0m\n\u001b[1;32m    127\u001b[0m     organization\u001b[39m=\u001b[39m\u001b[39mNone\u001b[39;00m,\n\u001b[1;32m    128\u001b[0m ):\n\u001b[1;32m    129\u001b[0m     \u001b[39mself\u001b[39m\u001b[39m.\u001b[39mapi_base \u001b[39m=\u001b[39m api_base \u001b[39mor\u001b[39;00m openai\u001b[39m.\u001b[39mapi_base\n\u001b[0;32m--> 130\u001b[0m     \u001b[39mself\u001b[39m\u001b[39m.\u001b[39mapi_key \u001b[39m=\u001b[39m key \u001b[39mor\u001b[39;00m util\u001b[39m.\u001b[39;49mdefault_api_key()\n\u001b[1;32m    131\u001b[0m     \u001b[39mself\u001b[39m\u001b[39m.\u001b[39mapi_type \u001b[39m=\u001b[39m (\n\u001b[1;32m    132\u001b[0m         ApiType\u001b[39m.\u001b[39mfrom_str(api_type)\n\u001b[1;32m    133\u001b[0m         \u001b[39mif\u001b[39;00m api_type\n\u001b[1;32m    134\u001b[0m         \u001b[39melse\u001b[39;00m ApiType\u001b[39m.\u001b[39mfrom_str(openai\u001b[39m.\u001b[39mapi_type)\n\u001b[1;32m    135\u001b[0m     )\n\u001b[1;32m    136\u001b[0m     \u001b[39mself\u001b[39m\u001b[39m.\u001b[39mapi_version \u001b[39m=\u001b[39m api_version \u001b[39mor\u001b[39;00m openai\u001b[39m.\u001b[39mapi_version\n",
      "File \u001b[0;32m~/.pyenv/versions/3.8.5/lib/python3.8/site-packages/openai/util.py:186\u001b[0m, in \u001b[0;36mdefault_api_key\u001b[0;34m()\u001b[0m\n\u001b[1;32m    184\u001b[0m     \u001b[39mreturn\u001b[39;00m openai\u001b[39m.\u001b[39mapi_key\n\u001b[1;32m    185\u001b[0m \u001b[39melse\u001b[39;00m:\n\u001b[0;32m--> 186\u001b[0m     \u001b[39mraise\u001b[39;00m openai\u001b[39m.\u001b[39merror\u001b[39m.\u001b[39mAuthenticationError(\n\u001b[1;32m    187\u001b[0m         \u001b[39m\"\u001b[39m\u001b[39mNo API key provided. You can set your API key in code using \u001b[39m\u001b[39m'\u001b[39m\u001b[39mopenai.api_key = <API-KEY>\u001b[39m\u001b[39m'\u001b[39m\u001b[39m, or you can set the environment variable OPENAI_API_KEY=<API-KEY>). If your API key is stored in a file, you can point the openai module at it with \u001b[39m\u001b[39m'\u001b[39m\u001b[39mopenai.api_key_path = <PATH>\u001b[39m\u001b[39m'\u001b[39m\u001b[39m. You can generate API keys in the OpenAI web interface. See https://onboard.openai.com for details, or email support@openai.com if you have any questions.\u001b[39m\u001b[39m\"\u001b[39m\n\u001b[1;32m    188\u001b[0m     )\n",
      "\u001b[0;31mAuthenticationError\u001b[0m: No API key provided. You can set your API key in code using 'openai.api_key = <API-KEY>', or you can set the environment variable OPENAI_API_KEY=<API-KEY>). If your API key is stored in a file, you can point the openai module at it with 'openai.api_key_path = <PATH>'. You can generate API keys in the OpenAI web interface. See https://onboard.openai.com for details, or email support@openai.com if you have any questions."
     ]
    }
   ],
   "source": [
    "prompt = \"Who won the 2020 Summer Olympics men's high jump?\"\n",
    "\n",
    "openai.Completion.create(\n",
    "    prompt=prompt,\n",
    "    temperature=0,\n",
    "    max_tokens=300,\n",
    "    model=COMPLETIONS_MODEL\n",
    ")[\"choices\"][0][\"text\"].strip(\" \\n\")"
   ]
  },
  {
   "attachments": {},
   "cell_type": "markdown",
   "id": "47204cce-a7d5-4c81-ab6e-53323026e08c",
   "metadata": {},
   "source": [
    "Marcelo is a gold medalist swimmer, and, we assume, not much of a high jumper! Evidently GPT-3 needs some assistance here. \n",
    "\n",
    "The first issue to tackle is that the model is hallucinating an answer rather than telling us \"I don't know\". This is bad because it makes it hard to trust the answer that the model gives us! \n",
    "\n",
    "# 0) Preventing hallucination with prompt engineering\n",
    "\n",
    "We can address this hallucination issue by being more explicit with our prompt:\n"
   ]
  },
  {
   "cell_type": "code",
   "execution_count": null,
   "id": "a5451371-17fe-4ef3-aa02-affcf4edb0e0",
   "metadata": {},
   "outputs": [],
   "source": [
    "prompt = \"\"\"Answer the question as truthfully as possible, and if you're unsure of the answer, say \"Sorry, I don't know\".\n",
    "\n",
    "Q: Who won the 2020 Summer Olympics men's high jump?\n",
    "A:\"\"\"\n",
    "\n",
    "openai.Completion.create(\n",
    "    prompt=prompt,\n",
    "    temperature=0,\n",
    "    max_tokens=300,\n",
    "    model=COMPLETIONS_MODEL\n",
    ")[\"choices\"][0][\"text\"].strip(\" \\n\")"
   ]
  },
  {
   "cell_type": "markdown",
   "id": "1af18d66-d47a-496d-ae5f-4c5d53caa434",
   "metadata": {},
   "source": [
    "To help the model answer the question, we provide extra contextual information in the prompt. When the total required context is short, we can include it in the prompt directly. For example we can use this information taken from Wikipedia. We update the initial prompt to tell the model to explicitly make use of the provided text."
   ]
  },
  {
   "cell_type": "code",
   "execution_count": null,
   "id": "fceaf665-2602-4788-bc44-9eb256a6f955",
   "metadata": {},
   "outputs": [],
   "source": [
    "prompt = \"\"\"Answer the question as truthfully as possible using the provided text, and if the answer is not contained within the text below, say \"I don't know\"\n",
    "\n",
    "Context:\n",
    "The men's high jump event at the 2020 Summer Olympics took place between 30 July and 1 August 2021 at the Olympic Stadium.\n",
    "33 athletes from 24 nations competed; the total possible number depended on how many nations would use universality places \n",
    "to enter athletes in addition to the 32 qualifying through mark or ranking (no universality places were used in 2021).\n",
    "Italian athlete Gianmarco Tamberi along with Qatari athlete Mutaz Essa Barshim emerged as joint winners of the event following\n",
    "a tie between both of them as they cleared 2.37m. Both Tamberi and Barshim agreed to share the gold medal in a rare instance\n",
    "where the athletes of different nations had agreed to share the same medal in the history of Olympics. \n",
    "Barshim in particular was heard to ask a competition official \"Can we have two golds?\" in response to being offered a \n",
    "'jump off'. Maksim Nedasekau of Belarus took bronze. The medals were the first ever in the men's high jump for Italy and \n",
    "Belarus, the first gold in the men's high jump for Italy and Qatar, and the third consecutive medal in the men's high jump\n",
    "for Qatar (all by Barshim). Barshim became only the second man to earn three medals in high jump, joining Patrik Sjöberg\n",
    "of Sweden (1984 to 1992).\n",
    "\n",
    "Q: Who won the 2020 Summer Olympics men's high jump?\n",
    "A:\"\"\"\n",
    "\n",
    "openai.Completion.create(\n",
    "    prompt=prompt,\n",
    "    temperature=0,\n",
    "    max_tokens=300,\n",
    "    top_p=1,\n",
    "    frequency_penalty=0,\n",
    "    presence_penalty=0,\n",
    "    model=COMPLETIONS_MODEL\n",
    ")[\"choices\"][0][\"text\"].strip(\" \\n\")"
   ]
  },
  {
   "attachments": {},
   "cell_type": "markdown",
   "id": "ee85ee77-d8d2-4788-b57e-0785f2d7e2e3",
   "metadata": {},
   "source": [
    "Adding extra information into the prompt only works when the dataset of extra content that the model may need to know is small enough to fit in a single prompt. What do we do when we need the model to choose relevant contextual information from within a large body of information?\n",
    "\n",
    "**In the remainder of this notebook, we will demonstrate a method for augmenting GPT-3 with a large body of additional contextual information by using document embeddings and retrieval.** This method answers queries in two steps: first it retrieves the information relevant to the query, then it writes an answer tailored to the question based on the retrieved information. The first step uses the [Embeddings API](https://beta.openai.com/docs/guides/embeddings), the second step uses the [Completions API](https://beta.openai.com/docs/guides/completion/introduction).\n",
    " \n",
    "The steps are:\n",
    "* Preprocess the contextual information by splitting it into chunks and create an embedding vector for each chunk.\n",
    "* On receiving a query, embed the query in the same vector space as the context chunks and find the context embeddings which are most similar to the query.\n",
    "* Prepend the most relevant context embeddings to the query prompt.\n",
    "* Submit the question along with the most relevant context to GPT, and receive an answer which makes use of the provided contextual information."
   ]
  },
  {
   "cell_type": "markdown",
   "id": "0c9bfea5-a028-4191-b9f1-f210d76ec4e3",
   "metadata": {},
   "source": [
    "# 1) Preprocess the document library\n",
    "\n",
    "We plan to use document embeddings to fetch the most relevant part of parts of our document library and insert them into the prompt that we provide to GPT-3. We therefore need to break up the document library into \"sections\" of context, which can be searched and retrieved separately. \n",
    "\n",
    "Sections should be large enough to contain enough information to answer a question; but small enough to fit one or several into the GPT-3 prompt. We find that approximately a paragraph of text is usually a good length, but you should experiment for your particular use case. In this example, Wikipedia articles are already grouped into semantically related headers, so we will use these to define our sections. This preprocessing has already been done in [this notebook](fine-tuned_qa/olympics-1-collect-data.ipynb), so we will load the results and use them."
   ]
  },
  {
   "cell_type": "code",
   "execution_count": null,
   "id": "cc9c8d69-e234-48b4-87e3-935970e1523a",
   "metadata": {},
   "outputs": [
    {
     "name": "stdout",
     "output_type": "stream",
     "text": [
      "3964 rows in the data.\n"
     ]
    },
    {
     "data": {
      "text/html": [
       "<div>\n",
       "<style scoped>\n",
       "    .dataframe tbody tr th:only-of-type {\n",
       "        vertical-align: middle;\n",
       "    }\n",
       "\n",
       "    .dataframe tbody tr th {\n",
       "        vertical-align: top;\n",
       "    }\n",
       "\n",
       "    .dataframe thead th {\n",
       "        text-align: right;\n",
       "    }\n",
       "</style>\n",
       "<table border=\"1\" class=\"dataframe\">\n",
       "  <thead>\n",
       "    <tr style=\"text-align: right;\">\n",
       "      <th></th>\n",
       "      <th></th>\n",
       "      <th>content</th>\n",
       "      <th>tokens</th>\n",
       "    </tr>\n",
       "    <tr>\n",
       "      <th>title</th>\n",
       "      <th>heading</th>\n",
       "      <th></th>\n",
       "      <th></th>\n",
       "    </tr>\n",
       "  </thead>\n",
       "  <tbody>\n",
       "    <tr>\n",
       "      <th>Synchronized swimming</th>\n",
       "      <th>World Aquatics Championships</th>\n",
       "      <td>Synchronized swimming has been part of the Wor...</td>\n",
       "      <td>120</td>\n",
       "    </tr>\n",
       "    <tr>\n",
       "      <th>Swimming at the 2020 Summer Olympics – Men's 100 metre freestyle</th>\n",
       "      <th>Competition format</th>\n",
       "      <td>The competition consists of three rounds: heat...</td>\n",
       "      <td>67</td>\n",
       "    </tr>\n",
       "    <tr>\n",
       "      <th>Miraitowa and Someity</th>\n",
       "      <th>Animation</th>\n",
       "      <td>On 22 July 2019, the official Japanese Twitter...</td>\n",
       "      <td>61</td>\n",
       "    </tr>\n",
       "    <tr>\n",
       "      <th>Boxing at the 2020 Summer Olympics – Women's lightweight</th>\n",
       "      <th>Schedule</th>\n",
       "      <td>The lightweight started with the round of 32 o...</td>\n",
       "      <td>58</td>\n",
       "    </tr>\n",
       "    <tr>\n",
       "      <th>Ireland at the 2020 Summer Olympics</th>\n",
       "      <th>Men's tournament</th>\n",
       "      <td>Ireland national rugby sevens team qualified f...</td>\n",
       "      <td>73</td>\n",
       "    </tr>\n",
       "  </tbody>\n",
       "</table>\n",
       "</div>"
      ],
      "text/plain": [
       "                                                                                                                           content  \\\n",
       "title                                              heading                                                                           \n",
       "Synchronized swimming                              World Aquatics Championships  Synchronized swimming has been part of the Wor...   \n",
       "Swimming at the 2020 Summer Olympics – Men's 10... Competition format            The competition consists of three rounds: heat...   \n",
       "Miraitowa and Someity                              Animation                     On 22 July 2019, the official Japanese Twitter...   \n",
       "Boxing at the 2020 Summer Olympics – Women's li... Schedule                      The lightweight started with the round of 32 o...   \n",
       "Ireland at the 2020 Summer Olympics                Men's tournament              Ireland national rugby sevens team qualified f...   \n",
       "\n",
       "                                                                                 tokens  \n",
       "title                                              heading                               \n",
       "Synchronized swimming                              World Aquatics Championships     120  \n",
       "Swimming at the 2020 Summer Olympics – Men's 10... Competition format                67  \n",
       "Miraitowa and Someity                              Animation                         61  \n",
       "Boxing at the 2020 Summer Olympics – Women's li... Schedule                          58  \n",
       "Ireland at the 2020 Summer Olympics                Men's tournament                  73  "
      ]
     },
     "execution_count": 19,
     "metadata": {},
     "output_type": "execute_result"
    }
   ],
   "source": [
    "# We have hosted the processed dataset, so you can download it directly without having to recreate it.\n",
    "# This dataset has already been split into sections, one row for each section of the Wikipedia page.\n",
    "\n",
    "df = pd.read_csv('https://cdn.openai.com/API/examples/data/olympics_sections_text.csv')\n",
    "df = df.set_index([\"title\", \"heading\"])\n",
    "print(f\"{len(df)} rows in the data.\")\n",
    "df.sample(5)"
   ]
  },
  {
   "attachments": {},
   "cell_type": "markdown",
   "id": "a17b88b9-7ea2-491e-9727-12617c74a77d",
   "metadata": {},
   "source": [
    "We preprocess the document sections by creating an embedding vector for each section. An embedding is a vector of numbers that helps us understand how semantically similar or different the texts are. The closer two embeddings are to each other, the more similar are their contents. See the [documentation on OpenAI embeddings](https://beta.openai.com/docs/guides/embeddings) for more information.\n",
    "\n",
    "This indexing stage can be executed offline and only runs once to precompute the indexes for the dataset so that each piece of content can be retrieved later. Since this is a small example, we will store and search the embeddings locally. If you have a larger dataset, consider using a vector search engine like [Pinecone](https://www.pinecone.io/), [Weaviate](https://github.com/semi-technologies/weaviate) or [Qdrant](https://qdrant.tech) to power the search."
   ]
  },
  {
   "cell_type": "code",
   "execution_count": 32,
   "id": "ba475f30-ef7f-431c-b60d-d5970b62ad09",
   "metadata": {},
   "outputs": [],
   "source": [
    "def get_embedding(text: str, model: str=EMBEDDING_MODEL):\n",
    "    result = openai.Embedding.create(\n",
    "      model=model,\n",
    "      input=text\n",
    "    )\n",
    "    return result[\"data\"][0][\"embedding\"]\n",
    "\n",
    "def compute_doc_embeddings(df: pd.DataFrame):\n",
    "    \"\"\"\n",
    "    Create an embedding for each row in the dataframe using the OpenAI Embeddings API.\n",
    "    \n",
    "    Return a dictionary that maps between each embedding vector and the index of the row that it corresponds to.\n",
    "    \"\"\"\n",
    "    return {\n",
    "        idx: get_embedding(r.content) for idx, r in df.iterrows()\n",
    "    }"
   ]
  },
  {
   "cell_type": "code",
   "execution_count": null,
   "id": "737266aa-cbe7-4691-87c1-fce8a31632f1",
   "metadata": {},
   "outputs": [],
   "source": [
    "def load_embeddings(fname: str):\n",
    "    \"\"\"\n",
    "    Read the document embeddings and their keys from a CSV.\n",
    "    \n",
    "    fname is the path to a CSV with exactly these named columns: \n",
    "        \"title\", \"heading\", \"0\", \"1\", ... up to the length of the embedding vectors.\n",
    "    \"\"\"\n",
    "    \n",
    "    df = pd.read_csv(fname, header=0)\n",
    "    max_dim = max([int(c) for c in df.columns if c != \"title\" and c != \"heading\"])\n",
    "    return {\n",
    "           (r.title, r.heading): [r[str(i)] for i in range(max_dim + 1)] for _, r in df.iterrows()\n",
    "    }"
   ]
  },
  {
   "cell_type": "markdown",
   "id": "cfe9c723-f838-4c75-8ed8-286b2e491a60",
   "metadata": {},
   "source": [
    "Again, we have hosted the embeddings for you so you don't have to re-calculate them from scratch."
   ]
  },
  {
   "cell_type": "code",
   "execution_count": null,
   "id": "ab50bfca-cb02-41c6-b338-4400abe1d86e",
   "metadata": {},
   "outputs": [],
   "source": [
    "document_embeddings = load_embeddings(\"https://cdn.openai.com/API/examples/data/olympics_sections_document_embeddings.csv\")\n",
    "\n",
    "# ===== OR, uncomment the below line to recaculate the embeddings from scratch. ========\n",
    "\n",
    "# document_embeddings = compute_doc_embeddings(df)"
   ]
  },
  {
   "cell_type": "code",
   "execution_count": 26,
   "id": "d5abcaac",
   "metadata": {},
   "outputs": [
    {
     "name": "stdout",
     "output_type": "stream",
     "text": [
      "<class 'dict'>\n"
     ]
    }
   ],
   "source": [
    "print(type(document_embeddings))"
   ]
  },
  {
   "cell_type": "code",
   "execution_count": null,
   "id": "c0e7e140",
   "metadata": {},
   "outputs": [
    {
     "name": "stdout",
     "output_type": "stream",
     "text": [
      "[0.0099452994763851, -0.012757059186697, -0.0106872916221618, -0.0049173259176313, -0.0254360139369964, 0.0194870587438344, -0.0355114862322807, -0.0076802703551948, -0.0079796705394983, -0.0232621077448129, 0.0213094968348741, -0.0002955358359031, 0.003371508559212, -0.0275187995284795, -0.0252277366816997, -0.0018907784251496, 0.0170918554067611, -0.0022487570531666, 0.0036351110320538, 0.0020486144348978, -0.0218041576445102, 0.0080447578802704, -0.0031892647966742, 0.001174007426016, 0.0073027657344937, -0.0070879785344004, 0.021830191835761, -0.0143712181597948, 0.0110387615859508, -0.0148919140920043, -0.0059912619180977, 0.0203852597624063, -0.0193699020892381, -0.0029533244669437, -0.021153287962079, -0.000157124173711, -0.0172090120613574, -0.0177687611430883, -0.0052687958814203, -0.0104725044220685, -0.0021625168155878, 0.0172741003334522, -0.0063882926478981, -0.0108044482767581, 0.0051158410497009, 0.028664331883192, -0.0056007397361099, -0.0024277465417981, -0.0198255125433206, 0.0313979871571064, 0.0057764747180044, 0.021830191835761, -0.0408486239612102, -0.0104139260947704, -0.0259827449917793, -0.027440695092082, -0.0385835953056812, 0.0096719339489936, 0.0218822620809078, -0.0100038778036832, 0.0160634815692901, -0.0067625432275235, -0.0049921758472919, 0.0177687611430883, 0.0049368520267307, 0.0152564020827412, -0.0308512561023235, 0.014930966310203, -0.0151262274011969, -0.0044259186834096, 0.0373339243233203, 0.0105180656537413, 0.0027059935964643, 0.0029712233226746, 0.0581097081303596, -0.0115529494360089, -0.0019688829779624, 0.002766199177131, 0.0039182398468256, 0.0182894580066204, 0.0061442162841558, -0.04053620621562, -0.0071921176277101, 0.0040744487196207, 0.0053078480996191, 0.017990056425333, 0.0092098163440823, 0.0218171756714582, -0.0081488974392414, 0.0047741341404616, 0.0095808124169707, 0.0194480065256357, -0.0011561085702851, 0.0105896610766649, -0.0417598448693752, 0.0182634238153696, -0.0196562856435775, 0.018185319378972, -0.0122949415817856, 0.0116766151040792, 0.0084613151848316, 0.0057471855543553, -0.0160764977335929, -0.0186148937791585, -0.033038180321455, 0.0081684235483407, -0.0167273692786693, -0.0004250997153576, -0.0043413052335381, 0.0083571756258606, 0.0071400483138859, 0.0300962459295988, -0.0015539530431851, -0.0526684299111366, -0.0378546230494976, -0.0170397870242595, -0.0020225797779858, -0.0065477560274302, -0.0177817791700363, -0.0028231502510607, -0.010394399985671, 0.0099452994763851, 0.008734680712223, -0.0050930608995258, 0.0345482006669044, -0.0274667292833328, -0.0105896610766649, -0.0119369626045227, 0.0106026781722903, -0.0010601051617413, 0.0038856961764395, 0.0083181234076619, -0.0169226303696632, 0.0161936543881893, -0.0074915182776749, 0.021478721871972, -0.0076607442460954, -0.0021023112349212, -0.033220425248146, -0.0040386505424976, -0.0077128140255808, -0.0035407347604632, -0.023066846653819, 0.0190314501523971, 0.0015051377704367, 0.04756560921669, 0.0245378129184246, 0.0033845258876681, 0.0346783734858036, 0.0221165753901004, 0.008116353303194, 0.0124641675502061, -0.0040874658152461, 0.0148528618738055, 0.0154386451467871, 0.0122558893635869, 0.0177817791700363, 0.0092293424531817, -0.0159723591059446, -0.0008648440125398, 0.0253058411180973, -0.0106417303904891, -0.0036676547024399, -0.0142931137233972, -0.0128221465274691, 0.0075045353733003, 0.0306950472295284, 0.002461917232722, 0.021830191835761, -0.0103162955492734, -0.0065607735887169, 0.0135250864550471, -0.0383492819964885, 0.0246159173548221, 0.0268939640372991, 0.0372558198869228, -0.0003476054698694, -0.0041558071970939, -0.0141238868236541, 0.0019086773972958, -0.0175344478338956, -0.0093595162034034, 0.0344180241227149, 0.0328819714486599, -0.0235484912991523, 0.0216479487717151, 0.0146706188097596, 0.017313152551651, 0.0288205407559871, -0.0086435582488775, 0.0159853771328926, -0.002762944670394, 0.0184456668794155, 0.0143582010641694, -0.6519117951393127, -0.0134339649230241, -0.0042046224698424, -0.006808103993535, 0.0318666137754917, 0.0238088387995958, 0.0277010425925254, 0.0090275723487138, -0.0131671074777841, -0.0029061362147331, -0.0164930559694767, 0.0088323112577199, 0.0032429615966975, -0.0121582588180899, -0.011442300863564, -0.017820831388235, 0.0137854348868131, 0.0122038200497627, -0.0199036169797182, 0.0007615183712914, -0.0030232928693294, -0.003358491230756, -0.0160244293510913, 0.0089039066806435, 0.0011284465435892, -0.0047090472653508, 0.0090145543217659, -0.0455869622528553, -0.0196042153984308, 0.0344180241227149, 0.0045821275562047, 0.0424107126891613, -0.0109150959178805, 0.0197083558887243, 0.0426450259983539, -0.0032250627409666, -0.0294974464923143, 0.0277270786464214, 0.0090666245669126, 0.0278832875192165, 0.0039995983242988, -0.0013708957703784, 0.0115724755451083, -0.017313152551651, 0.0030053940135985, 0.0111168660223484, 0.0115269143134355, -0.0077518662437796, -0.0003872678789775, -0.0254490319639444, -0.0132452119141817, -0.0326736941933631, -0.0137333646416664, -0.0059294290840625, -0.0011626172345131, 0.0065347384661436, 0.004666740540415, -0.0125097287818789, 0.0022926910314708, -0.0081619145348668, -0.0084938583895564, 0.0027954883407801, -0.0231709852814674, -0.0217130351811647, 0.0038075917400419, 0.0038141005206853, -0.0124316243454813, -0.0035374804865568, 0.0324654132127761, -0.0277010425925254, -0.013629226014018, 0.0309814307838678, -0.0312417782843112, -0.0102707343176007, 0.0133558604866266, 0.0152694191783666, 0.0281436350196599, -0.0056788441725075, -0.0168184898793697, -0.0051256041042506, 0.01529545430094, -0.0045528383925557, -0.0086630843579769, 0.0031567213591188, 0.0023659139405936, -0.0257614497095346, -0.0339754335582256, 0.007061943411827, 0.0079015661031007, 0.001983527559787, 0.0296015851199626, 0.0380108319222927, 0.011351179331541, 0.0030721081420779, -0.0032185539603233, 0.0197734422981739, -0.0098346518352627, -0.0039442745037376, 0.0267898254096508, -0.03059090860188, -0.0135771557688713, -0.0139416437596082, -0.0035407347604632, -0.0113707054406404, 0.0126594286412, -0.0001792944531189, -0.0161415860056877, 0.0177297089248895, 0.0198775809258222, -0.004920579958707, -0.0111559182405471, 0.0009567794622853, -0.0166232287883758, 0.0183935966342687, 0.0191616248339414, -0.0165321081876754, 0.000260958331637, 0.0082985972985625, 0.0261519718915224, 0.0096654249355196, 0.0266205985099077, -0.0161415860056877, 0.01957818120718, -0.010303278453648, -0.0046081622131168, 0.0285081230103969, 0.0079601444303989, -0.0163108110427856, -0.025175666436553, 0.0023545236326754, -0.0012822146527469, 0.0175865180790424, 0.0297317598015069, -0.0078169535845518, 0.0219864007085561, 0.0337671563029289, -0.0105115566402673, -0.0097305122762918, 0.0089364498853683, -0.0376723781228065, -0.0236396118998527, -0.0048489845357835, -0.0208148341625928, -0.0110257444903254, 0.0036969438660889, -0.0324133448302745, -0.0217390712350606, 0.0042501837015151, -0.0158812366425991, 0.0134079298004508, -0.0091056767851114, -0.0002516020904295, -0.0132452119141817, -0.0112014794722199, -0.0189142934978008, -0.0047741341404616, -0.0079536363482475, -0.01529545430094, -0.0207627657800912, 0.0089104156941175, 0.0124316243454813, 0.0202290508896112, -0.0150741580873727, 0.0044063925743103, 0.0060693663544952, -0.010394399985671, 0.0078364796936512, -0.0119174364954233, 0.0146315665915608, -0.0225852020084857, 0.0344961285591125, 0.0060530947521328, -0.0012521118624135, 0.035303208976984, 0.0072181527502834, -0.0166492648422718, 0.0026848402339965, -0.0157380457967519, 0.0143972532823681, -0.0103488387539982, 0.0149570014327764, 0.0023447605781257, -0.0386096313595771, -0.0065412474796175, 0.0198124945163726, -0.0073092742823064, 0.0039117308333516, 0.0025676835794001, -0.0321790315210819, 0.0031648571603, 0.0033487281762063, 0.0236135777086019, 0.0224420111626386, -0.0182113535702228, 0.0130824949592351, 0.0209580268710851, 0.0135250864550471, -0.0012952320976182, -0.0201769825071096, -0.0051776738837361, 0.0353813134133815, -0.0065021952614188, 0.0048294584266841, 0.0083376495167613, -0.0032966583967208, 0.0019656284712255, 0.0137984519824385, -0.0187450665980577, 0.0206456091254949, 0.0035797872114926, 0.0319967865943908, -0.0296276193112134, -0.0322831720113754, 0.0144363055005669, -0.0136031908914446, 0.0226893406361341, 0.001351369661279, 0.0166883170604705, -0.0201899986714124, -0.0105506088584661, -0.0008713527349755, -0.0203071553260087, 0.0235615074634552, -0.025696363300085, -0.0176125522702932, -0.0001888541155494, 0.0062874080613255, 0.0073353094048798, 0.021478721871972, 0.0016873814165592, -0.022546149790287, -0.0054868371225893, -0.0103683648630976, 0.0057113873772323, 0.0093595162034034, -0.0042599467560648, 0.0019412209512665, 0.0043413052335381, 0.0336630158126354, -0.0082335099577903, 0.0268158596009016, -0.0074003962799906, 0.0483206175267696, -0.0203722435981035, 0.0088323112577199, -0.0184326488524675, 0.0283519141376018, -0.0073743616230785, -0.006590062752366, -0.0007379243033938, -0.040718451142311, -0.0191095545887947, -0.0239910818636417, -0.0066779302433133, 0.0142019912600517, -0.0220905411988496, 0.0247981622815132, -0.0101470695808529, 0.0116896321997046, 0.0412131138145923, 0.0087476978078484, -0.006456634029746, 0.0097305122762918, 0.0017248064978048, -0.0043380511924624, 0.0095547772943973, 0.0108500095084309, 0.0089169237762689, -0.0086500672623515, -0.0261129196733236, -0.0135901737958192, -0.0157640799880027, 0.0134599991142749, 0.0205024164170026, -0.00144493218977, -0.0135120693594217, -0.0354594178497791, -0.0188361890614032, 0.0004421850608196, 0.0121387327089905, -0.0294714104384183, -0.0262821465730667, -0.0050637717358767, 0.0109801832586526, 0.0055519244633615, -0.0307210814207792, -0.0102902604267001, -0.0074719921685755, -0.0021950602531433, 0.0053794435225427, 0.007543587591499, 0.0108304833993315, -0.0224029589444398, -0.0092293424531817, -0.0096328817307949, -0.0130629688501358, 0.0136943124234676, -0.009346499107778, -0.0126268854364752, -0.0155037324875593, 0.00323157152161, -0.0271282773464918, -0.0054445308633148, -0.0165711604058742, 0.046862669289112, 0.0120476111769676, -0.0057829832658171, -0.0253969617187976, -0.007862513884902, -0.0152694191783666, 0.0206456091254949, -0.0178728997707366, -0.0116375628858804, 0.013277756050229, 0.0201379302889108, -0.0114357927814126, -0.0114943711087107, 0.0117677366361022, 0.0144623396918177, -0.024134274572134, -0.017313152551651, -0.0084287710487842, -0.0350168272852897, -0.0205414686352014, 0.1040871888399124, 0.0088323112577199, 0.015035105869174, 0.0077453576959669, 0.0140327652916312, 0.0021429907064884, -0.0043478142470121, -0.016948664560914, 0.0189793799072504, 0.0350168272852897, -0.0358239039778709, -0.0133102992549538, 0.0106026781722903, 0.027076207101345, 0.0179379880428314, 0.0039410199970006, -0.0016906358068808, -0.0119174364954233, 0.0258395541459321, 0.0039377659559249, -0.0025839554145932, 0.00623533828184, -0.0135120693594217, 0.0322050675749778, 0.0226763244718313, -0.0206456091254949, 0.0117937717586755, 0.0082204928621649, 0.0079601444303989, -0.0195391289889812, -0.0048294584266841, -0.006938278209418, -0.0118002798408269, 0.0259306766092777, -0.0010104762623086, 0.0329600758850574, 0.009684951044619, 0.0092944288626313, 0.0165451243519783, 0.0039149853400886, 0.0238348729908466, -0.0304867681115865, -0.008129371330142, 0.0157640799880027, 0.0056951157748699, -0.0094506377354264, -0.014930966310203, 0.0231319330632686, -0.0041818423196673, 0.0014709670795127, 0.0160764977335929, -0.0053273742087185, -0.0556103661656379, -0.0119499806314706, -0.0307991858571767, 0.010400908999145, -0.034626305103302, -0.0127765852957963, 0.0002172279928345, -0.0062874080613255, -0.0016133449971675, -0.0278051830828189, 0.0002086853201035, -0.0051190955564379, -0.0136943124234676, -0.0327517986297607, 0.0001621074043214, -0.0219733845442533, -0.0392605029046535, -0.0126464115455746, -0.0003339778631925, -0.0128742158412933, -0.0390261895954608, 0.0129327941685915, 0.0011935335351154, -0.0152433840557932, 0.008031740784645, -0.0120280850678682, 0.0004332356038503, 0.0097240032628178, -0.0213094968348741, -0.0019037958700209, -0.0104920305311679, -0.0123925721272826, -0.0112470397725701, 0.044389359652996, 0.00646314304322, -0.0159202888607978, -0.0129913724958896, 0.0129783554002642, 0.0083311405032873, -0.0133818946778774, 0.0027954883407801, 0.0013521831715479, 0.0047838971950113, 0.0066584041342139, 0.0101405605673789, 0.0070294002071022, -0.0061246901750564, -0.0245638489723205, 0.0267637893557548, -0.0007993502076715, -0.0073288003914058, 0.0114813530817627, 1.7771812053979374e-05, 0.0144623396918177, 0.0240040998905897, -0.0051093325018882, -0.0207497477531433, -0.0102512082085013, 0.0243685878813266, -0.032335240393877, 0.0233662463724613, -0.0073873787187039, -0.0174433253705501, 0.0281696692109107, 0.0051939454860985, 0.0518613532185554, 0.0232751257717609, -0.0084873493760824, -0.0183935966342687, -0.0014083207352086, 0.0138895735144615, 0.0319186821579933, -0.0110778138041496, -0.0049531236290931, 0.0010739361168816, 0.0045202947221696, -0.0055258893407881, -0.0139025915414094, 0.0041688247583806, 0.0155167495831847, -0.0114357927814126, 0.014930966310203, -0.0125487810000777, 0.0038401351775974, -0.0037913199048489, -0.0139937130734324, -0.0140457823872566, -0.0020144437439739, 0.01196950674057, -0.0059880074113607, 0.0129067599773406, -0.0050898063927888, -0.012054119259119, -0.0186929982155561, -0.013629226014018, 0.0148138096556067, -0.012412098236382, 0.0197864603251218, 0.0061311991885304, 0.0154907153919339, -0.0372297875583171, 0.0041590617038309, -0.0092488685622811, 0.0005023905541747, -0.006456634029746, -0.0274146609008312, 0.012412098236382, 0.0198255125433206, 0.0034170695580542, -0.0027369100134819, 0.0194349903613328, -0.0140067301690578, -0.001565343234688, -0.0015962596517056, -0.0009820007253438, 0.0003856407129205, -0.0132191777229309, -0.0084222629666328, 0.0181072149425745, 0.0242904834449291, -0.0245247967541217, 0.0068341391161084, -0.0195130947977304, 0.0118458410724997, -0.0028491851408034, -0.0015995139256119, -0.0152303669601678, -0.0362664982676506, -0.0011072931811213, -0.0254490319639444, 0.0068731913343071, -0.0020079351961612, -0.0252407528460025, -0.0096524078398942, -0.0049791582860052, -0.0115789836272597, 0.0182894580066204, 0.0016133449971675, -0.0169096123427152, -0.0206586252897977, 0.0197474081069231, 0.0216609667986631, -0.0276489742100238, -0.0145144099369645, -0.013264738023281, -0.0160374455153942, 0.0189923979341983, 0.0040126158855855, -0.0029337983578443, 0.0007875531446188, -0.0053078480996191, -0.0123339937999844, 0.0023789312690496, 0.0257093794643878, -0.0344180241227149, 0.0006752780172973, -0.0129718463867902, -0.0153605407103896, -0.004318525083363, -0.0086175240576267, -0.0067299995571374, 0.0063101882115006, -0.0372558198869228, 0.0102056479081511, -0.0088778715580701, 0.0095873204991221, -0.0180291086435318, -0.0348606184124946, -0.0008705391082912, -0.0222337320446968, 0.0243295356631279, 0.015894254669547, 0.0187190324068069, 0.0096003385260701, 0.01529545430094, -0.0028540666680783, -0.0128351636230945, -0.0087867500260472, 0.0207497477531433, 0.0462117977440357, 0.0098541779443621, -0.009437620639801, -0.042306575924158, -0.0080447578802704, -0.0104269431903958, -0.0309814307838678, -0.0028703382704406, 0.0254880841821432, 0.0177557431161403, -0.0056039937771856, 0.0015726655256003, -0.0028817285783588, -0.0093985684216022, 0.0433479659259319, -0.016610212624073, -0.0157901160418987, -0.0019574926700443, -0.0056430459953844, 0.0106156961992383, 0.0508199594914913, 0.0051353671588003, 0.0163889154791831, 0.0060921469703316, -0.03915636241436, -0.0094701638445258, -0.0365528799593448, -0.019591199234128, 0.0255271364003419, -0.007862513884902, 0.0161546021699905, -0.0152043318375945, 0.002876847051084, 0.0172480642795562, 0.005851324647665, -0.0078104445710778, 0.0085524367168545, 0.0234703868627548, 0.0223118364810943, -0.0108174653723835, -0.015282436273992, 0.004539820831269, 0.0180030744522809, 0.001926576369442, -0.008122862316668, -0.0115920016542077, -0.0071205222047865, -0.010999709367752, -0.0128286555409431, 0.0155688198283314, 0.0146315665915608, 0.0106807826086878, -0.0139416437596082, -0.0141889741644263, -0.0123470108956098, -0.0132126687094569, -0.0007428058306686, 0.011103848926723, -0.0057178963907063, 0.0171829778701066, 0.0016841271426528, -0.0141108697280287, -0.0009242359665222, 0.0071400483138859, 0.0143842352554202, -0.0031290594488382, 0.0132517209276556, -0.0151522625237703, -0.0104334522038698, 0.0045137861743569, 0.0172350481152534, -0.0024212377611547, -0.0061377077363431, -0.0321790315210819, 0.0006036823033355, 0.0289246793836355, 0.0285081230103969, 0.0073418179526925, -0.0174563433974981, 0.0152433840557932, 0.0192527454346418, 0.011344670318067, 0.0092944288626313, 0.0237958207726478, 0.0056755896657705, -0.0007550096488557, -0.0215698443353176, -0.0281696692109107, 0.02936727181077, -0.0057634571567177, 0.0136031908914446, 0.0183675624430179, -0.0135381035506725, 0.0313459187746048, 0.0106156961992383, 0.0173391867429018, 0.0080057056620717, -0.0293152015656232, -0.015282436273992, 0.0252928230911493, 0.0006480228039436, -0.0042827269062399, -0.0182894580066204, -0.0119825238361954, -0.0125227458775043, -0.0075891488231718, 0.0101796127855777, 0.0028394220862537, -0.0141238868236541, 0.0061735054478049, 0.0197734422981739, 0.0351730361580848, -0.0022406212519854, -0.0055714505724608, -0.0291589926928281, 0.0118848932906985, -0.009086150676012, -0.0275187995284795, -0.0096263727173209, -0.0152433840557932, 0.0402498245239257, -0.0020909211598336, -0.0027287739794701, -0.0071465568616986, 0.0063036796636879, -0.0079861795529723, 0.0006122249760665, 0.009437620639801, 0.0220775231719017, 0.0111819533631205, 0.0100949993357062, 0.0115789836272597, 0.0177166908979415, -0.0112860919907689, 0.0256573110818862, -0.0179770402610301, -0.001374963670969, 0.0386616997420787, -0.0104334522038698, 0.0023805585224181, 0.0096003385260701, -0.0342097468674182, 0.0109085878357291, 0.0049433605745434, 0.018862223252654, 0.0040679397061467, 0.0253579095005989, 0.0178598836064338, -0.0095743034034967, -0.0078364796936512, -0.0005377816269174, -0.027076207101345, 0.0352511405944824, 0.0074524660594761, -0.0315541960299015, 0.0171959958970546, 0.016935646533966, -0.011611527763307, -0.0004165570426266, -0.0184456668794155, -0.0023789312690496, -0.0055258893407881, 0.0087086455896496, -0.0086956284940242, -0.0079210922122001, 0.0153214884921908, -0.0312678143382072, 0.0342618152499198, -0.0086761023849248, -0.0007118894718587, 0.0075891488231718, 0.0049335975199937, 0.0025351401418447, -0.0148528618738055, 0.0005548669723793, -0.0508199594914913, -0.0090015372261404, 0.0011089204344898, -0.0001977018837351, -0.0037327415775507, -0.012757059186697, 0.0102967694401741, -0.0350428596138954, -0.0071530654095113, 0.0079796705394983, -0.0230408105999231, -0.0281436350196599, 0.0245898831635713, 0.014943984337151, -0.0146576007828116, 0.0047480994835495, -0.0084092449396848, -0.0193048156797885, -0.0051288586109876, -0.0234443508088588, 0.0014595768880099, -0.0279353559017181, 0.0029582059942185, -0.0093985684216022, -0.0260608494281768, -0.019591199234128, 0.002398457378149, 0.0028394220862537, -0.0193568859249353, 0.0117937717586755, 0.2103613018989563, -0.011611527763307, -0.0048294584266841, 0.0305648725479841, -0.0179510042071342, 0.0226112361997365, 0.0463419705629348, 0.0077844099141657, -0.0140588004142045, -0.0007651795167475, -0.024824196472764, 0.0103162955492734, -0.0087932590395212, -0.0020421058870851, 0.0153995929285883, -0.0153214884921908, -0.0262300763279199, -0.018185319378972, -0.0273105204105377, 0.0208278521895408, -0.0045072771608829, 0.0095482682809233, -0.0116310538724064, 0.0025741923600435, 0.0031518398318439, 0.0258135199546813, 0.0140848346054553, 0.0002583141904324, -0.0156729593873024, 0.0049043083563447, 0.0135250864550471, -0.0128807248547673, -0.021830191835761, 0.0299660731106996, 0.0018403360154479, -0.0127440420910716, -0.0039019680116325, -0.0047643710859119, 0.0101405605673789, 0.0217651054263114, -0.0113707054406404, 0.0179379880428314, 0.0114943711087107, -0.0086891194805502, -0.0125552900135517, 0.0194480065256357, -0.0065347384661436, 0.0004458462062757, -0.0236656479537487, -0.0069773304276168, -0.0470709465444088, -0.0257354155182838, 0.0292370971292257, 0.0057406765408813, 0.0258265361189842, -0.0096068466082215, 0.0417598448693752, 0.0134339649230241, -0.007068452425301, -0.0041362810879945, -0.0324393808841705, 0.0224550273269414, -0.0038336266297847, 0.0258916243910789, 0.0223639067262411, 0.0167403854429721, -0.0361102893948555, 0.026373267173767, 0.0014823572710156, 0.0164409857243299, 0.0088648544624447, 0.0017964022699743, -0.0233141779899597, -0.0193438678979873, 0.0047708800993859, -0.0143191488459706, 0.032517485320568, 0.0230147764086723, 0.0175084136426448, 0.0089755021035671, -0.0139937130734324, 0.0289246793836355, 0.025696363300085, -0.0048196953721344, -0.020450348034501, -0.027102243155241, 0.0222207140177488, 0.0117937717586755, -0.0131605993956327, 0.002512359758839, -0.0008363684173673, -0.0222727842628955, -0.0110387615859508, -0.0073743616230785, 0.0017671131063252, -0.0117937717586755, 0.0200858600437641, 0.005854579154402, -0.0075110443867743, 0.0037132154684513, -0.0145664792507886, 0.0512885861098766, -0.006332968827337, -0.0205154344439506, -0.0055389069020748, -0.0157901160418987, -0.0124771855771541, -0.0082139838486909, 0.027961391955614, -0.0167143512517213, -0.0112340226769447, -0.0201379302889108, 0.0153214884921908, -6.376495730364695e-05, -0.0157770980149507, 0.0037197242490947, -0.0094961989670991, -0.0212183743715286, 0.0039995983242988, -0.0165190901607275, -0.0131215471774339, -0.0253709275275468, -0.0051646563224494, 0.0010674274526536, 0.005623519886285, -0.0159333068877458, -0.0347825139760971, 0.0191225726157426, -0.0196302514523267, -0.0195000767707824, -0.004318525083363, 0.0019200675887987, -0.0039865812286734, 0.0069773304276168, -0.0061767599545419, -0.0094896899536252, 0.0127635682001709, -0.025865588337183, -0.0189663637429475, -0.004575619008392, -0.0068406476639211, -0.0259306766092777, 0.0073483265005052, 0.015907272696495, -0.0033275748137384, -0.0127310249954462, -0.0037522676866501, 0.0019054230069741, -0.0146185485646128, -0.0056365374475717, 0.0125748161226511, -0.0236526299268007, -0.0028849828522652, -0.0348345823585987, 0.0285081230103969, -0.0224029589444398, -0.0007895871531218, -0.020450348034501, -0.0173261687159538, 0.0448319502174854, -0.0080447578802704, -0.000259127758909, 0.0219603665173053, -0.0290808882564306, -0.0342357829213142, -0.0303565952926874, -0.1643317490816116, 0.0161936543881893, 0.0291850287467241, -0.0241993609815835, 0.0100299129262566, 0.0068406476639211, 0.0091837812215089, -0.0208799224346876, -0.0032364530488848, -0.0189533457159996, 0.0313719511032104, 0.0292891673743724, -0.0318145453929901, -0.0124511504545807, -0.0097044771537184, -0.0011561085702851, -0.0105115566402673, 0.0199036169797182, 0.0121647678315639, 0.0088127851486206, 0.0448840223252773, -0.0368132293224334, 0.0151132103055715, -0.0084092449396848, -0.0098346518352627, 0.0110387615859508, -0.0179510042071342, -0.024134274572134, 0.0180551446974277, -0.0319186821579933, -0.0146445836871862, 0.01529545430094, 0.0298619326204061, 0.0250715278089046, -0.0012659429339691, -0.0020665135234594, 0.0068862084299325, -0.0083246324211359, -0.0231058988720178, 0.0392084307968616, 0.0122558893635869, -0.0038954592309892, -0.0109801832586526, 0.0153345065191388, -0.0057667116634547, 0.0335068069398403, 0.0079406183212995, -0.003469139104709, -0.0003453680837992, -0.0015995139256119, 0.0206976775079965, 0.0024131019599735, 0.0043803574517369, -0.0144102703779935, 0.0025693108327686, -0.0018354544881731, 0.0269981026649475, -0.0181983355432748, -0.0031729931943118, -0.0078690228983759, -0.0091967983171343, -0.0097174951806664, 0.0269981026649475, -0.0381670407950878, -0.0003779116086661, 0.0048685106448829, 0.0042306575924158, -0.0025969727430492, -0.0085133844986557, 0.0152173498645424, 0.0029533244669437, 0.0133168082684278, 0.0284039825201034, -0.0107653960585594, 0.0128416726365685, 0.0096393907442688, 0.0139937130734324, 0.0094831818714737, 0.0066584041342139, 0.0049335975199937, -0.0306169427931308, 0.0420462265610694, -0.0186929982155561, -0.0040842117741703, -0.0045853820629417, 0.0124706765636801, 0.003358491230756, 0.0154126109555363, -0.0440769419074058, -0.0037132154684513, 0.0096003385260701, -0.0276750084012746, -0.0199426691979169, 0.009079641662538, 0.012320976704359, 0.0208929385989904, 0.0069187521003186, 0.009086150676012, 0.0089624850079417, -0.012757059186697, 0.0061181816272437, -0.0058057638816535, -0.0147096710279583, 0.0445976369082927, 0.0210621654987335, 0.0238348729908466, 0.0072116437368094, 0.0151001932099461, 0.0011325144441798, 0.0170267689973115, -0.0320228226482868, 0.0192787814885377, 0.010654748417437, 0.0229757241904735, -0.0157901160418987, 0.0156599413603544, 0.0331423208117485, 0.0027922338340431, 0.0020551232155412, 0.0019184404518455, 0.0284039825201034, -0.0075566051527857, -0.0173261687159538, 0.0176646225154399, -0.0035114455968141, -0.0165060721337795, -0.0974222794175148, -0.0005707319942303, 0.0117417015135288, 0.0099387904629111, 0.0167794376611709, 0.030070211738348, 0.0239129774272441, 0.0069512957707047, 0.0109541481360793, 0.0286382976919412, -0.0034300868865102, -0.0260868854820728, 0.0292631331831216, -0.0062581188976764, 0.0325435176491737, -0.0046146712265908, -0.0021137015428394, -0.0292631331831216, 0.0051386216655373, 0.014241044409573, 0.0151913147419691, -0.0279093217104673, 0.0046211797744035, -0.0141108697280287, -0.0049531236290931, -0.0211793221533298, -0.0268939640372991, 0.0175344478338956, 0.0123665370047092, 0.0168965943157672, 0.00418835086748, -0.0066584041342139, 0.0128481816500425, -0.0163238290697336, -0.0067299995571374, 0.0145404441282153, -0.0361623577773571, 0.0067299995571374, 0.0161546021699905, -0.0170658212155103, 0.0012220091884955, 0.0047090472653508, 0.0141238868236541, -0.0081684235483407, -0.0019770187791436, -0.0052362522110342, -0.0111103570088744, -0.0039442745037376, -0.0059880074113607, -0.0208538863807916, -0.0262430943548679, -0.0062125576660037, 0.0008770478307269, -0.0105375917628407, -0.0033161845058202, -0.0112535487860441, 0.0099322823807597, 0.0149700185284018, -0.038271177560091, 0.0167403854429721, 0.0219473484903574, 0.0034105607774108, 0.0035342262126505, -0.0127440420910716, 0.0299921073019504, 0.001749214134179, -0.0092814117670059, -0.0163889154791831, 0.0155167495831847, -0.0282477736473083, -0.0123730460181832, 0.0109346220269799, -0.0274146609008312, 0.0158031322062015, -0.0074524660594761, -0.0037327415775507, -0.0163368470966815, -0.0150741580873727, 0.0140457823872566, -0.0161155499517917, -0.0082009667530655, -0.0170528031885623, -0.0021137015428394, 0.0006134453578852, -0.0039605461061, 0.0081749316304922, 0.009079641662538, -0.0053534088656306, 0.0217000190168619, -0.0184586849063634, 0.0055356523953378, 0.0196432676166296, 0.0215568263083696, -0.0071791005320847, -0.0213745832443237, 0.0422284714877605, 0.0100819822400808, -0.0114813530817627, 0.0086370501667261, 0.0179249700158834, -0.0360061489045619, -0.0123470108956098, -0.0661284327507019, 0.0336369797587394, 0.0183935966342687, -0.0156339071691036, 0.0072376788593828, -0.0078429877758026, 0.0341316424310207, -0.0095352511852979, -0.0038271178491413, -0.0131475813686847, -0.0101470695808529, -0.0090080462396144, -0.0068731913343071, 0.0028443036135286, -0.0281696692109107, -0.0039540375582873, 0.0129002509638667, 0.0181332491338253, 0.0010007132077589, -0.0072311698459088, -0.0096458988264203, -0.0028914916329085, -0.0049726497381925, 0.013967677950859, -0.0089169237762689, 0.0082139838486909, -0.0093920594081282, 0.0291850287467241, -0.0249413531273603, -0.0056690811179578, 0.0280915647745132, -0.0037164699751883, -0.0063134427182376, 0.0091382199898362, -0.0081098452210426, -0.0272584520280361, 0.0051125870086252, 0.0159723591059446, 0.0238348729908466, 0.0209710430353879, -0.0142800966277718, -0.0066356235183775, 0.0170918554067611, -0.0088127851486206, -0.0096589168533682, 0.0177297089248895, 0.016245724633336, 0.008467823266983, -0.0066584041342139, 0.0174823775887489, -0.0249153189361095, 0.0042566922493278, -0.0011813297169283, -0.0047383364289999, 0.0215438101440668, -0.022884601727128, 0.0149830365553498, 0.0317885093390941, -0.0051418761722743, -0.0087476978078484, 0.0379066914319992, -0.0013350978260859, 0.015035105869174, -0.0046211797744035, 0.0132582299411296, -0.0079015661031007, -0.0322310999035835, 0.0074980268254876, 0.0017117890529334, -0.0195391289889812, -0.0217781234532594, 0.0128807248547673, 0.0162066724151372, 0.0285081230103969, -0.0109085878357291, 0.0111624272540211, 0.0154516631737351, -0.0070814695209264, -0.0126268854364752, -0.0039214938879013, 0.0015694112516939, -0.0034886652138084, -0.0486590713262558, 0.0211012177169322, 0.0139156086370348, -0.0079796705394983, -0.0104399612173438, -0.0039149853400886, -0.0379847958683967, 0.0041460441425442, 0.0012895369436591, 0.0130629688501358, 0.0163758993148803, 0.0076932879164814, 0.0177687611430883, 0.0154907153919339, 0.0038889504503458, 0.0032852683216333, 0.0053826980292797, 0.0203462075442075, 0.0107263438403606, -0.0018533534603193, 0.0042924899607896, -0.0164670199155807, -0.0266075804829597, 0.0085198935121297, -0.0232230555266141, -0.0032136724330484, -0.0163628812879323, 0.0067104734480381, -0.00764772715047, 0.0462117977440357, 0.0102772433310747, 0.0122493803501129, 0.0032689964864403, 0.0017443326069042, -0.0093204639852046, -0.0207497477531433, -0.0062190666794776, 0.0114878620952367, 0.0150871751829981, 0.0118458410724997, 0.0008453179034404, -0.0027385370340198, 0.0184977371245622, -0.0098932301625609, 0.0112795839086174, -0.0259827449917793, 0.0221035573631525, -0.0173912569880485, 0.0210881996899843, -0.009092659689486, -0.0108630266040563, -0.0222858022898435, 0.0132126687094569, -0.0247721262276172, 0.0034268326126039, 0.0154126109555363, 0.0230408105999231, 0.0433740019798278, 0.0300181414932012, 0.0238739252090454, 0.0078494967892766, 0.0301222819834947, 0.0189403276890516, -0.0055063632316887, 0.0051321131177246, -0.0289246793836355, -0.0343399196863174, 0.0073548355139791, 0.0101731037721037, -0.0165581423789262, -0.0381410047411918, -0.0285341572016477, 0.0104204351082444, 0.0123600289225578, 0.0075761312618851, -0.0290548540651798, -5.374765532906167e-05, 0.0122168371453881, -0.0010820720344781, 0.0206586252897977, 0.0123860631138086, 0.0055714505724608, 0.0251105800271034, 0.0060075335204601, -0.0199947375804185, -0.0074719921685755, -0.0332724936306476, -0.0108500095084309, 0.0117547195404767, -0.0152433840557932, -0.0223118364810943, 0.0121973110362887, -0.0119434716179966, 0.0088062761351466, -0.0074589746072888, 0.0160504635423421, 0.0030655995942652, 0.0050800433382391, 0.0067690517753362, -0.0448840223252773, -0.0376463420689106, -0.0259697288274765, 0.013629226014018, -0.0139937130734324, 0.0009795599617064, -0.0220124367624521]\n"
     ]
    }
   ],
   "source": [
    "print((list(document_embeddings.items())[1][1]))"
   ]
  },
  {
   "cell_type": "code",
   "execution_count": null,
   "id": "b9a8c713-c8a9-47dc-85a4-871ee1395566",
   "metadata": {},
   "outputs": [],
   "source": [
    "# An example embedding:\n",
    "example_entry = list(document_embeddings.items())[0]\n",
    "print(f\"{example_entry[0]} : {example_entry[1][:5]}... ({len(example_entry[1])} entries)\")"
   ]
  },
  {
   "cell_type": "markdown",
   "id": "aa32cf88-9edb-4dc6-b4cf-a16a8de7d304",
   "metadata": {
    "tags": []
   },
   "source": [
    "So we have split our document library into sections, and encoded them by creating embedding vectors that represent each chunk. Next we will use these embeddings to answer our users' questions.\n",
    "\n",
    "# 2) Find the most similar document embeddings to the question embedding\n",
    "\n",
    "At the time of question-answering, to answer the user's query we compute the query embedding of the question and use it to find the most similar document sections. Since this is a small example, we store and search the embeddings locally. If you have a larger dataset, consider using a vector search engine like [Pinecone](https://www.pinecone.io/), [Weaviate](https://github.com/semi-technologies/weaviate) or [Qdrant](https://qdrant.tech) to power the search."
   ]
  },
  {
   "cell_type": "code",
   "execution_count": 28,
   "id": "dcd680e9-f194-4180-b14f-fc357498eb92",
   "metadata": {},
   "outputs": [],
   "source": [
    "def vector_similarity(x, y) -> float:\n",
    "    \"\"\"\n",
    "    Returns the similarity between two vectors.\n",
    "    \n",
    "    Because OpenAI Embeddings are normalized to length 1, the cosine similarity is the same as the dot product.\n",
    "    \"\"\"\n",
    "    return np.dot(np.array(x), np.array(y))\n",
    "\n",
    "def order_document_sections_by_query_similarity(query: str, contexts):\n",
    "    \"\"\"\n",
    "    Find the query embedding for the supplied query, and compare it against all of the pre-calculated document embeddings\n",
    "    to find the most relevant sections. \n",
    "    \n",
    "    Return the list of document sections, sorted by relevance in descending order.\n",
    "    \"\"\"\n",
    "    query_embedding = get_embedding(query)\n",
    "    \n",
    "    document_similarities = sorted([\n",
    "        (vector_similarity(query_embedding, doc_embedding), doc_index) for doc_index, doc_embedding in contexts.items()\n",
    "    ], reverse=True)\n",
    "    \n",
    "    return document_similarities"
   ]
  },
  {
   "cell_type": "code",
   "execution_count": null,
   "id": "e3a27d73-f47f-480d-b336-079414f749cb",
   "metadata": {},
   "outputs": [],
   "source": [
    "order_document_sections_by_query_similarity(\"Who won the men's high jump?\", document_embeddings)[:5]"
   ]
  },
  {
   "cell_type": "code",
   "execution_count": null,
   "id": "729c2ce7-8540-4ab2-bb3a-76c4dfcb689c",
   "metadata": {},
   "outputs": [],
   "source": [
    "order_document_sections_by_query_similarity(\"Who won the women's high jump?\", document_embeddings)[:5]"
   ]
  },
  {
   "attachments": {},
   "cell_type": "markdown",
   "id": "3cf71fae-abb1-46b2-a483-c1b2f1a915c2",
   "metadata": {},
   "source": [
    "We can see that the most relevant document sections for each question include the summaries for the Men's and Women's high jump competitions - which is exactly what we would expect."
   ]
  },
  {
   "cell_type": "markdown",
   "id": "a0efa0f6-4469-457a-89a4-a2f5736a01e0",
   "metadata": {},
   "source": [
    "# 3) Add the most relevant document sections to the query prompt\n",
    "\n",
    "Once we've calculated the most relevant pieces of context, we construct a prompt by simply prepending them to the supplied query. It is helpful to use a query separator to help the model distinguish between separate pieces of text."
   ]
  },
  {
   "cell_type": "code",
   "execution_count": 29,
   "id": "b763ace2-1946-48e0-8ff1-91ba335d47a0",
   "metadata": {},
   "outputs": [
    {
     "data": {
      "text/plain": [
       "'Context separator contains 3 tokens'"
      ]
     },
     "execution_count": 29,
     "metadata": {},
     "output_type": "execute_result"
    }
   ],
   "source": [
    "MAX_SECTION_LEN = 500\n",
    "SEPARATOR = \"\\n* \"\n",
    "ENCODING = \"gpt2\"  # encoding for text-davinci-003\n",
    "\n",
    "encoding = tiktoken.get_encoding(ENCODING)\n",
    "separator_len = len(encoding.encode(SEPARATOR))\n",
    "\n",
    "f\"Context separator contains {separator_len} tokens\""
   ]
  },
  {
   "cell_type": "code",
   "execution_count": 30,
   "id": "0c5c0509-eeb9-4552-a5d4-6ace04ef73dd",
   "metadata": {},
   "outputs": [],
   "source": [
    "def fconstruct_prompt(question: str, context_embeddings: dict, df: pd.DataFrame) -> str:\n",
    "    \"\"\"\n",
    "    Fetch relevant \n",
    "    \"\"\"\n",
    "    most_relevant_document_sections = order_document_sections_by_query_similarity(question, context_embeddings)\n",
    "    \n",
    "    chosen_sections = []\n",
    "    chosen_sections_len = 0\n",
    "    chosen_sections_indexes = []\n",
    "     \n",
    "    for _, section_index in most_relevant_document_sections:\n",
    "        # Add contexts until we run out of space.        \n",
    "        document_section = df.loc[section_index]\n",
    "        print(document_section)\n",
    "        \n",
    "        chosen_sections_len += document_section.tokens + separator_len\n",
    "        if chosen_sections_len > MAX_SECTION_LEN:\n",
    "            break\n",
    "            \n",
    "        chosen_sections.append(SEPARATOR + document_section.content.replace(\"\\n\", \" \"))\n",
    "        chosen_sections_indexes.append(str(section_index))\n",
    "            \n",
    "    # Useful diagnostic information\n",
    "    print(f\"Selected {len(chosen_sections)} document sections:\")\n",
    "    print(\"\\n\".join(chosen_sections_indexes))\n",
    "    \n",
    "    header = \"\"\"Answer the question as truthfully as possible using the provided context, and if the answer is not contained within the text below, say \"I don't know.\"\\n\\nContext:\\n\"\"\"\n",
    "    \n",
    "    return header + \"\".join(chosen_sections) + \"\\n\\n Q: \" + question + \"\\n A:\""
   ]
  },
  {
   "cell_type": "code",
   "execution_count": 33,
   "id": "f614045a-3917-4b28-9643-7e0c299ec1a7",
   "metadata": {},
   "outputs": [
    {
     "ename": "AuthenticationError",
     "evalue": "No API key provided. You can set your API key in code using 'openai.api_key = <API-KEY>', or you can set the environment variable OPENAI_API_KEY=<API-KEY>). If your API key is stored in a file, you can point the openai module at it with 'openai.api_key_path = <PATH>'. You can generate API keys in the OpenAI web interface. See https://onboard.openai.com for details, or email support@openai.com if you have any questions.",
     "output_type": "error",
     "traceback": [
      "\u001b[0;31m---------------------------------------------------------------------------\u001b[0m",
      "\u001b[0;31mAuthenticationError\u001b[0m                       Traceback (most recent call last)",
      "Cell \u001b[0;32mIn[33], line 1\u001b[0m\n\u001b[0;32m----> 1\u001b[0m prompt \u001b[39m=\u001b[39m construct_prompt(\n\u001b[1;32m      2\u001b[0m     \u001b[39m\"\u001b[39;49m\u001b[39mWho won the 2020 Summer Olympics men\u001b[39;49m\u001b[39m'\u001b[39;49m\u001b[39ms high jump?\u001b[39;49m\u001b[39m\"\u001b[39;49m,\n\u001b[1;32m      3\u001b[0m     document_embeddings,\n\u001b[1;32m      4\u001b[0m     df\n\u001b[1;32m      5\u001b[0m )\n\u001b[1;32m      7\u001b[0m \u001b[39mprint\u001b[39m(\u001b[39m\"\u001b[39m\u001b[39m===\u001b[39m\u001b[39m\\n\u001b[39;00m\u001b[39m\"\u001b[39m, prompt)\n",
      "Cell \u001b[0;32mIn[30], line 5\u001b[0m, in \u001b[0;36mconstruct_prompt\u001b[0;34m(question, context_embeddings, df)\u001b[0m\n\u001b[1;32m      1\u001b[0m \u001b[39mdef\u001b[39;00m \u001b[39mconstruct_prompt\u001b[39m(question: \u001b[39mstr\u001b[39m, context_embeddings: \u001b[39mdict\u001b[39m, df: pd\u001b[39m.\u001b[39mDataFrame) \u001b[39m-\u001b[39m\u001b[39m>\u001b[39m \u001b[39mstr\u001b[39m:\n\u001b[1;32m      2\u001b[0m     \u001b[39m\"\"\"\u001b[39;00m\n\u001b[1;32m      3\u001b[0m \u001b[39m    Fetch relevant \u001b[39;00m\n\u001b[1;32m      4\u001b[0m \u001b[39m    \"\"\"\u001b[39;00m\n\u001b[0;32m----> 5\u001b[0m     most_relevant_document_sections \u001b[39m=\u001b[39m order_document_sections_by_query_similarity(question, context_embeddings)\n\u001b[1;32m      7\u001b[0m     chosen_sections \u001b[39m=\u001b[39m []\n\u001b[1;32m      8\u001b[0m     chosen_sections_len \u001b[39m=\u001b[39m \u001b[39m0\u001b[39m\n",
      "Cell \u001b[0;32mIn[28], line 16\u001b[0m, in \u001b[0;36morder_document_sections_by_query_similarity\u001b[0;34m(query, contexts)\u001b[0m\n\u001b[1;32m      9\u001b[0m \u001b[39mdef\u001b[39;00m \u001b[39morder_document_sections_by_query_similarity\u001b[39m(query: \u001b[39mstr\u001b[39m, contexts):\n\u001b[1;32m     10\u001b[0m     \u001b[39m\"\"\"\u001b[39;00m\n\u001b[1;32m     11\u001b[0m \u001b[39m    Find the query embedding for the supplied query, and compare it against all of the pre-calculated document embeddings\u001b[39;00m\n\u001b[1;32m     12\u001b[0m \u001b[39m    to find the most relevant sections. \u001b[39;00m\n\u001b[1;32m     13\u001b[0m \u001b[39m    \u001b[39;00m\n\u001b[1;32m     14\u001b[0m \u001b[39m    Return the list of document sections, sorted by relevance in descending order.\u001b[39;00m\n\u001b[1;32m     15\u001b[0m \u001b[39m    \"\"\"\u001b[39;00m\n\u001b[0;32m---> 16\u001b[0m     query_embedding \u001b[39m=\u001b[39m get_embedding(query)\n\u001b[1;32m     18\u001b[0m     document_similarities \u001b[39m=\u001b[39m \u001b[39msorted\u001b[39m([\n\u001b[1;32m     19\u001b[0m         (vector_similarity(query_embedding, doc_embedding), doc_index) \u001b[39mfor\u001b[39;00m doc_index, doc_embedding \u001b[39min\u001b[39;00m contexts\u001b[39m.\u001b[39mitems()\n\u001b[1;32m     20\u001b[0m     ], reverse\u001b[39m=\u001b[39m\u001b[39mTrue\u001b[39;00m)\n\u001b[1;32m     22\u001b[0m     \u001b[39mreturn\u001b[39;00m document_similarities\n",
      "Cell \u001b[0;32mIn[32], line 2\u001b[0m, in \u001b[0;36mget_embedding\u001b[0;34m(text, model)\u001b[0m\n\u001b[1;32m      1\u001b[0m \u001b[39mdef\u001b[39;00m \u001b[39mget_embedding\u001b[39m(text: \u001b[39mstr\u001b[39m, model: \u001b[39mstr\u001b[39m\u001b[39m=\u001b[39mEMBEDDING_MODEL):\n\u001b[0;32m----> 2\u001b[0m     result \u001b[39m=\u001b[39m openai\u001b[39m.\u001b[39;49mEmbedding\u001b[39m.\u001b[39;49mcreate(\n\u001b[1;32m      3\u001b[0m       model\u001b[39m=\u001b[39;49mmodel,\n\u001b[1;32m      4\u001b[0m       \u001b[39minput\u001b[39;49m\u001b[39m=\u001b[39;49mtext\n\u001b[1;32m      5\u001b[0m     )\n\u001b[1;32m      6\u001b[0m     \u001b[39mreturn\u001b[39;00m result[\u001b[39m\"\u001b[39m\u001b[39mdata\u001b[39m\u001b[39m\"\u001b[39m][\u001b[39m0\u001b[39m][\u001b[39m\"\u001b[39m\u001b[39membedding\u001b[39m\u001b[39m\"\u001b[39m]\n",
      "File \u001b[0;32m~/.pyenv/versions/3.8.5/lib/python3.8/site-packages/openai/api_resources/embedding.py:33\u001b[0m, in \u001b[0;36mEmbedding.create\u001b[0;34m(cls, *args, **kwargs)\u001b[0m\n\u001b[1;32m     31\u001b[0m \u001b[39mwhile\u001b[39;00m \u001b[39mTrue\u001b[39;00m:\n\u001b[1;32m     32\u001b[0m     \u001b[39mtry\u001b[39;00m:\n\u001b[0;32m---> 33\u001b[0m         response \u001b[39m=\u001b[39m \u001b[39msuper\u001b[39;49m()\u001b[39m.\u001b[39;49mcreate(\u001b[39m*\u001b[39;49margs, \u001b[39m*\u001b[39;49m\u001b[39m*\u001b[39;49mkwargs)\n\u001b[1;32m     35\u001b[0m         \u001b[39m# If a user specifies base64, we'll just return the encoded string.\u001b[39;00m\n\u001b[1;32m     36\u001b[0m         \u001b[39m# This is only for the default case.\u001b[39;00m\n\u001b[1;32m     37\u001b[0m         \u001b[39mif\u001b[39;00m \u001b[39mnot\u001b[39;00m user_provided_encoding_format:\n",
      "File \u001b[0;32m~/.pyenv/versions/3.8.5/lib/python3.8/site-packages/openai/api_resources/abstract/engine_api_resource.py:149\u001b[0m, in \u001b[0;36mEngineAPIResource.create\u001b[0;34m(cls, api_key, api_base, api_type, request_id, api_version, organization, **params)\u001b[0m\n\u001b[1;32m    127\u001b[0m \u001b[39m@classmethod\u001b[39m\n\u001b[1;32m    128\u001b[0m \u001b[39mdef\u001b[39;00m \u001b[39mcreate\u001b[39m(\n\u001b[1;32m    129\u001b[0m     \u001b[39mcls\u001b[39m,\n\u001b[0;32m   (...)\u001b[0m\n\u001b[1;32m    136\u001b[0m     \u001b[39m*\u001b[39m\u001b[39m*\u001b[39mparams,\n\u001b[1;32m    137\u001b[0m ):\n\u001b[1;32m    138\u001b[0m     (\n\u001b[1;32m    139\u001b[0m         deployment_id,\n\u001b[1;32m    140\u001b[0m         engine,\n\u001b[1;32m    141\u001b[0m         timeout,\n\u001b[1;32m    142\u001b[0m         stream,\n\u001b[1;32m    143\u001b[0m         headers,\n\u001b[1;32m    144\u001b[0m         request_timeout,\n\u001b[1;32m    145\u001b[0m         typed_api_type,\n\u001b[1;32m    146\u001b[0m         requestor,\n\u001b[1;32m    147\u001b[0m         url,\n\u001b[1;32m    148\u001b[0m         params,\n\u001b[0;32m--> 149\u001b[0m     ) \u001b[39m=\u001b[39m \u001b[39mcls\u001b[39;49m\u001b[39m.\u001b[39;49m__prepare_create_request(\n\u001b[1;32m    150\u001b[0m         api_key, api_base, api_type, api_version, organization, \u001b[39m*\u001b[39;49m\u001b[39m*\u001b[39;49mparams\n\u001b[1;32m    151\u001b[0m     )\n\u001b[1;32m    153\u001b[0m     response, _, api_key \u001b[39m=\u001b[39m requestor\u001b[39m.\u001b[39mrequest(\n\u001b[1;32m    154\u001b[0m         \u001b[39m\"\u001b[39m\u001b[39mpost\u001b[39m\u001b[39m\"\u001b[39m,\n\u001b[1;32m    155\u001b[0m         url,\n\u001b[0;32m   (...)\u001b[0m\n\u001b[1;32m    160\u001b[0m         request_timeout\u001b[39m=\u001b[39mrequest_timeout,\n\u001b[1;32m    161\u001b[0m     )\n\u001b[1;32m    163\u001b[0m     \u001b[39mif\u001b[39;00m stream:\n\u001b[1;32m    164\u001b[0m         \u001b[39m# must be an iterator\u001b[39;00m\n",
      "File \u001b[0;32m~/.pyenv/versions/3.8.5/lib/python3.8/site-packages/openai/api_resources/abstract/engine_api_resource.py:106\u001b[0m, in \u001b[0;36mEngineAPIResource.__prepare_create_request\u001b[0;34m(cls, api_key, api_base, api_type, api_version, organization, **params)\u001b[0m\n\u001b[1;32m    103\u001b[0m \u001b[39melif\u001b[39;00m timeout \u001b[39m==\u001b[39m \u001b[39m0\u001b[39m:\n\u001b[1;32m    104\u001b[0m     params[\u001b[39m\"\u001b[39m\u001b[39mtimeout\u001b[39m\u001b[39m\"\u001b[39m] \u001b[39m=\u001b[39m MAX_TIMEOUT\n\u001b[0;32m--> 106\u001b[0m requestor \u001b[39m=\u001b[39m api_requestor\u001b[39m.\u001b[39;49mAPIRequestor(\n\u001b[1;32m    107\u001b[0m     api_key,\n\u001b[1;32m    108\u001b[0m     api_base\u001b[39m=\u001b[39;49mapi_base,\n\u001b[1;32m    109\u001b[0m     api_type\u001b[39m=\u001b[39;49mapi_type,\n\u001b[1;32m    110\u001b[0m     api_version\u001b[39m=\u001b[39;49mapi_version,\n\u001b[1;32m    111\u001b[0m     organization\u001b[39m=\u001b[39;49morganization,\n\u001b[1;32m    112\u001b[0m )\n\u001b[1;32m    113\u001b[0m url \u001b[39m=\u001b[39m \u001b[39mcls\u001b[39m\u001b[39m.\u001b[39mclass_url(engine, api_type, api_version)\n\u001b[1;32m    114\u001b[0m \u001b[39mreturn\u001b[39;00m (\n\u001b[1;32m    115\u001b[0m     deployment_id,\n\u001b[1;32m    116\u001b[0m     engine,\n\u001b[0;32m   (...)\u001b[0m\n\u001b[1;32m    124\u001b[0m     params,\n\u001b[1;32m    125\u001b[0m )\n",
      "File \u001b[0;32m~/.pyenv/versions/3.8.5/lib/python3.8/site-packages/openai/api_requestor.py:130\u001b[0m, in \u001b[0;36mAPIRequestor.__init__\u001b[0;34m(self, key, api_base, api_type, api_version, organization)\u001b[0m\n\u001b[1;32m    121\u001b[0m \u001b[39mdef\u001b[39;00m \u001b[39m__init__\u001b[39m(\n\u001b[1;32m    122\u001b[0m     \u001b[39mself\u001b[39m,\n\u001b[1;32m    123\u001b[0m     key\u001b[39m=\u001b[39m\u001b[39mNone\u001b[39;00m,\n\u001b[0;32m   (...)\u001b[0m\n\u001b[1;32m    127\u001b[0m     organization\u001b[39m=\u001b[39m\u001b[39mNone\u001b[39;00m,\n\u001b[1;32m    128\u001b[0m ):\n\u001b[1;32m    129\u001b[0m     \u001b[39mself\u001b[39m\u001b[39m.\u001b[39mapi_base \u001b[39m=\u001b[39m api_base \u001b[39mor\u001b[39;00m openai\u001b[39m.\u001b[39mapi_base\n\u001b[0;32m--> 130\u001b[0m     \u001b[39mself\u001b[39m\u001b[39m.\u001b[39mapi_key \u001b[39m=\u001b[39m key \u001b[39mor\u001b[39;00m util\u001b[39m.\u001b[39;49mdefault_api_key()\n\u001b[1;32m    131\u001b[0m     \u001b[39mself\u001b[39m\u001b[39m.\u001b[39mapi_type \u001b[39m=\u001b[39m (\n\u001b[1;32m    132\u001b[0m         ApiType\u001b[39m.\u001b[39mfrom_str(api_type)\n\u001b[1;32m    133\u001b[0m         \u001b[39mif\u001b[39;00m api_type\n\u001b[1;32m    134\u001b[0m         \u001b[39melse\u001b[39;00m ApiType\u001b[39m.\u001b[39mfrom_str(openai\u001b[39m.\u001b[39mapi_type)\n\u001b[1;32m    135\u001b[0m     )\n\u001b[1;32m    136\u001b[0m     \u001b[39mself\u001b[39m\u001b[39m.\u001b[39mapi_version \u001b[39m=\u001b[39m api_version \u001b[39mor\u001b[39;00m openai\u001b[39m.\u001b[39mapi_version\n",
      "File \u001b[0;32m~/.pyenv/versions/3.8.5/lib/python3.8/site-packages/openai/util.py:186\u001b[0m, in \u001b[0;36mdefault_api_key\u001b[0;34m()\u001b[0m\n\u001b[1;32m    184\u001b[0m     \u001b[39mreturn\u001b[39;00m openai\u001b[39m.\u001b[39mapi_key\n\u001b[1;32m    185\u001b[0m \u001b[39melse\u001b[39;00m:\n\u001b[0;32m--> 186\u001b[0m     \u001b[39mraise\u001b[39;00m openai\u001b[39m.\u001b[39merror\u001b[39m.\u001b[39mAuthenticationError(\n\u001b[1;32m    187\u001b[0m         \u001b[39m\"\u001b[39m\u001b[39mNo API key provided. You can set your API key in code using \u001b[39m\u001b[39m'\u001b[39m\u001b[39mopenai.api_key = <API-KEY>\u001b[39m\u001b[39m'\u001b[39m\u001b[39m, or you can set the environment variable OPENAI_API_KEY=<API-KEY>). If your API key is stored in a file, you can point the openai module at it with \u001b[39m\u001b[39m'\u001b[39m\u001b[39mopenai.api_key_path = <PATH>\u001b[39m\u001b[39m'\u001b[39m\u001b[39m. You can generate API keys in the OpenAI web interface. See https://onboard.openai.com for details, or email support@openai.com if you have any questions.\u001b[39m\u001b[39m\"\u001b[39m\n\u001b[1;32m    188\u001b[0m     )\n",
      "\u001b[0;31mAuthenticationError\u001b[0m: No API key provided. You can set your API key in code using 'openai.api_key = <API-KEY>', or you can set the environment variable OPENAI_API_KEY=<API-KEY>). If your API key is stored in a file, you can point the openai module at it with 'openai.api_key_path = <PATH>'. You can generate API keys in the OpenAI web interface. See https://onboard.openai.com for details, or email support@openai.com if you have any questions."
     ]
    }
   ],
   "source": [
    "prompt = construct_prompt(\n",
    "    \"Who won the 2020 Summer Olympics men's high jump?\",\n",
    "    document_embeddings,\n",
    "    df\n",
    ")\n",
    "\n",
    "print(\"===\\n\", prompt)"
   ]
  },
  {
   "cell_type": "markdown",
   "id": "1b022fd4-0a3c-4ae1-bed1-4c80e4f0fb56",
   "metadata": {
    "tags": []
   },
   "source": [
    "We have now obtained the document sections that are most relevant to the question. As a final step, let's put it all together to get an answer to the question.\n",
    "\n",
    "# 4) Answer the user's question based on the context.\n",
    "\n",
    "Now that we've retrieved the relevant context and constructed our prompt, we can finally use the Completions API to answer the user's query."
   ]
  },
  {
   "cell_type": "code",
   "execution_count": null,
   "id": "b0edfec7-9243-4573-92e0-253d31c771ad",
   "metadata": {},
   "outputs": [],
   "source": [
    "COMPLETIONS_API_PARAMS = {\n",
    "    # We use temperature of 0.0 because it gives the most predictable, factual answer.\n",
    "    \"temperature\": 0.0,\n",
    "    \"max_tokens\": 300,\n",
    "    \"model\": COMPLETIONS_MODEL,\n",
    "}"
   ]
  },
  {
   "cell_type": "code",
   "execution_count": null,
   "id": "9c1c9a69-848e-4099-a90d-c8da36c153d5",
   "metadata": {},
   "outputs": [],
   "source": [
    "def answer_query_with_context(\n",
    "    query: str,\n",
    "    df: pd.DataFrame,\n",
    "    document_embeddings: dict[(str, str), np.array],\n",
    "    show_prompt: bool = False\n",
    ") -> str:\n",
    "    prompt = construct_prompt(\n",
    "        query,\n",
    "        document_embeddings,\n",
    "        df\n",
    "    )\n",
    "    \n",
    "    if show_prompt:\n",
    "        print(prompt)\n",
    "\n",
    "    response = openai.Completion.create(\n",
    "                prompt=prompt,\n",
    "                **COMPLETIONS_API_PARAMS\n",
    "            )\n",
    "\n",
    "    return response[\"choices\"][0][\"text\"].strip(\" \\n\")"
   ]
  },
  {
   "cell_type": "code",
   "execution_count": null,
   "id": "c233e449-bf33-4c9e-b095-6a4dd278c8fd",
   "metadata": {},
   "outputs": [],
   "source": [
    "answer_query_with_context(\"Who won the 2020 Summer Olympics men's high jump?\", df, document_embeddings)"
   ]
  },
  {
   "attachments": {},
   "cell_type": "markdown",
   "id": "7b48d155-d2d4-447c-ab8e-5a5b4722b07c",
   "metadata": {},
   "source": [
    "By combining the Embeddings and Completions APIs, we have created a question-answering model which can answer questions using a large base of additional knowledge. It also understands when it doesn't know the answer! \n",
    "\n",
    "For this example we have used a dataset of Wikipedia articles, but that dataset could be replaced with books, articles, documentation, service manuals, or much much more. **We can't wait to see what you create with GPT-3!**\n",
    "\n",
    "# More Examples\n",
    "\n",
    "Let's have some fun and try some more examples."
   ]
  },
  {
   "cell_type": "code",
   "execution_count": null,
   "id": "1127867b-2884-44bb-9439-0e8ae171c835",
   "metadata": {},
   "outputs": [],
   "source": [
    "query = \"Why was the 2020 Summer Olympics originally postponed?\"\n",
    "answer = answer_query_with_context(query, df, document_embeddings)\n",
    "\n",
    "print(f\"\\nQ: {query}\\nA: {answer}\")"
   ]
  },
  {
   "cell_type": "code",
   "execution_count": null,
   "id": "720d9e0b-b189-4101-91ee-babf736199e6",
   "metadata": {},
   "outputs": [],
   "source": [
    "query = \"In the 2020 Summer Olympics, how many gold medals did the country which won the most medals win?\"\n",
    "answer = answer_query_with_context(query, df, document_embeddings)\n",
    "\n",
    "print(f\"\\nQ: {query}\\nA: {answer}\")"
   ]
  },
  {
   "cell_type": "code",
   "execution_count": null,
   "id": "4e8e51cc-e4eb-4557-9e09-2929d4df5b7f",
   "metadata": {},
   "outputs": [],
   "source": [
    "query = \"What was unusual about the men’s shotput competition?\"\n",
    "answer = answer_query_with_context(query, df, document_embeddings)\n",
    "\n",
    "print(f\"\\nQ: {query}\\nA: {answer}\")"
   ]
  },
  {
   "cell_type": "code",
   "execution_count": null,
   "id": "37c83519-e3c6-4c44-8b4a-98cbb3a5f5ba",
   "metadata": {},
   "outputs": [],
   "source": [
    "query = \"In the 2020 Summer Olympics, how many silver medals did Italy win?\"\n",
    "answer = answer_query_with_context(query, df, document_embeddings)\n",
    "\n",
    "print(f\"\\nQ: {query}\\nA: {answer}\")"
   ]
  },
  {
   "cell_type": "markdown",
   "id": "177c945e-f5c4-4fa5-8331-44f328b25e44",
   "metadata": {},
   "source": [
    "Our Q&A model is less prone to hallucinating answers, and has a better sense of what it does or doesn't know. This works when the information isn't contained in the context; when the question is nonsensical; or when the question is theoretically answerable but beyond GPT-3's powers!"
   ]
  },
  {
   "cell_type": "code",
   "execution_count": null,
   "id": "26a1a9ef-e1ee-4f80-a1b1-6164ccfa5bac",
   "metadata": {},
   "outputs": [],
   "source": [
    "query = \"What is the total number of medals won by France, multiplied by the number of Taekwondo medals given out to all countries?\"\n",
    "answer = answer_query_with_context(query, df, document_embeddings)\n",
    "\n",
    "print(f\"\\nQ: {query}\\nA: {answer}\")"
   ]
  },
  {
   "cell_type": "code",
   "execution_count": null,
   "id": "9fba8a63-eb81-4661-ae17-59bb5e2933d6",
   "metadata": {},
   "outputs": [],
   "source": [
    "query = \"What is the tallest mountain in the world?\"\n",
    "answer = answer_query_with_context(query, df, document_embeddings)\n",
    "\n",
    "print(f\"\\nQ: {query}\\nA: {answer}\")"
   ]
  },
  {
   "cell_type": "code",
   "execution_count": null,
   "id": "2d4c693b-cdb9-4f4c-bd1b-f77b29097a1f",
   "metadata": {},
   "outputs": [],
   "source": [
    "query = \"Who won the grimblesplatch competition at the 2020 Summer Olympic games?\"\n",
    "answer = answer_query_with_context(query, df, document_embeddings)\n",
    "\n",
    "print(f\"\\nQ: {query}\\nA: {answer}\")"
   ]
  }
 ],
 "metadata": {
  "kernelspec": {
   "display_name": "Python 3.9.9 ('openai')",
   "language": "python",
   "name": "python3"
  },
  "language_info": {
   "codemirror_mode": {
    "name": "ipython",
    "version": 3
   },
   "file_extension": ".py",
   "mimetype": "text/x-python",
   "name": "python",
   "nbconvert_exporter": "python",
   "pygments_lexer": "ipython3",
   "version": "3.8.5"
  },
  "vscode": {
   "interpreter": {
    "hash": "365536dcbde60510dc9073d6b991cd35db2d9bac356a11f5b64279a5e6708b97"
   }
  }
 },
 "nbformat": 4,
 "nbformat_minor": 5
}
